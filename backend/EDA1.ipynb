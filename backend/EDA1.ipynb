{
 "cells": [
  {
   "cell_type": "code",
   "execution_count": 10,
   "id": "fe5cd010-07c2-43c2-a0ab-c8da27f68f74",
   "metadata": {},
   "outputs": [],
   "source": [
    "import numpy as np\n",
    "import pandas as pd\n",
    "import matplotlib as plt\n",
    "import seaborn as sns\n",
    "%matplotlib inline\n",
    "\n",
    "import sqlite3"
   ]
  },
  {
   "cell_type": "code",
   "execution_count": 11,
   "id": "313eab9c-4ad4-478d-a62f-2a92f6c94e15",
   "metadata": {},
   "outputs": [],
   "source": [
    "df_arrests = pd.read_csv('Subway_Fare_Evasion_Arrests.csv', index_col = 0)\n",
    "df_summonses = pd.read_csv('Subway_Fare_Evasion_Summonses.csv')"
   ]
  },
  {
   "cell_type": "code",
   "execution_count": 12,
   "id": "7c923f33",
   "metadata": {},
   "outputs": [
    {
     "data": {
      "text/plain": [
       "<bound method NDFrame.head of                 1    2    3    4   11   12   20  23   30   32   33   34    0\n",
       "Quarter_Year                                                                \n",
       "4_2024        231  196  188  252  379  652  191  20  193  210  506  133  132\n",
       "3_2024        257  120  184  172  294  512  257   9  100  292  382  119   94\n",
       "2_2024        189  174  118  111  246  379  156  11  176  184  378   93   62\n",
       "1_2024        152   55   59  134  212  288  136  16  130  100  229  104   79\n",
       "4_2023        120   32   58   34  144  259   80  10   91   91  196   91   46\n",
       "3_2023        162   22   57   50  108  203   50  14   60   88  213  103   12\n",
       "2_2023         63   21   60   53  135  266   31  39   89   95  158  111   15\n",
       "1_2023         41   17   27   28  144  200   24  27   50   72  200   83   10\n",
       "4_2022         18   11   14   15   55  131   18  10   41   49  202   30    7\n",
       "3_2022         12    6    3   13   56  137    4   1   53   44  127   16    5\n",
       "2_2022         14    6    1    1   37   71   11   1   41   78  105   28  124\n",
       "1_2022         19    2    4    2   43   53    5   0   34   60   35   38    6\n",
       "4_2021         16    8    3   10   45   39    5   0   19   42   29   39    2\n",
       "3_2021         18    7    3    6   46   19   10   1   39   42    8   29    3\n",
       "2_2021         20    4    9   12   36   20   17   0   17   28    1   22    4\n",
       "1_2021         23    4    2    7   35   35   28   0   28   24    5   14    4\n",
       "4_2020         18    0    0    2    8   11    5   0   19   16    2    1    0\n",
       "3_2020          4    1    0    0    0    0    0   0    1    0    0    0    0\n",
       "2_2020          4    1    1    0    1    1    1   0    5    7    5    0    1\n",
       "1_2020         29   17    3   13   45   20   10   8   30   40   90   27    0\n",
       "4_2019         16    2    7   28   51   26   25   7   47   56  114   25   77\n",
       "3_2019         44   19   28   48   78   66   37   7   67   38   66   36    6\n",
       "2_2019         53   10   33   67   61  117   46  25  111   34   81   41    3\n",
       "1_2019         61   36   43  101  115  239   68  29  120   69   60   45    6\n",
       "4_2018         86   41   39   67  113  244   44  13   69   51   50   32    9\n",
       "3_2018         80   20   25   68  110  183   57  27  105   50   87   61   10\n",
       "2_2018         72   36   25   86   88  125   70  40  129   42  133  158    8\n",
       "1_2018        313  124  120  377  154  212  124  61  178  156  252  164   19\n",
       "4_2017        551  259  186  597  288  306  167  88  252  179  268  139   16>"
      ]
     },
     "execution_count": 12,
     "metadata": {},
     "output_type": "execute_result"
    }
   ],
   "source": [
    "df_arrests.head"
   ]
  },
  {
   "cell_type": "code",
   "execution_count": 15,
   "id": "87e38e84",
   "metadata": {},
   "outputs": [
    {
     "data": {
      "text/plain": [
       "Index(['1', '2', '3', '4', '11', '12', '20', '23', '30', '32', '33', '34',\n",
       "       '0'],\n",
       "      dtype='object')"
      ]
     },
     "execution_count": 15,
     "metadata": {},
     "output_type": "execute_result"
    }
   ],
   "source": [
    "df_arrests.columns"
   ]
  },
  {
   "cell_type": "code",
   "execution_count": null,
   "id": "91b7e39a",
   "metadata": {},
   "outputs": [
    {
     "ename": "NameError",
     "evalue": "name 'df_arrests' is not defined",
     "output_type": "error",
     "traceback": [
      "\u001b[1;31m---------------------------------------------------------------------------\u001b[0m",
      "\u001b[1;31mNameError\u001b[0m                                 Traceback (most recent call last)",
      "Cell \u001b[1;32mIn[4], line 1\u001b[0m\n\u001b[1;32m----> 1\u001b[0m df_arrests[\u001b[38;5;241m0\u001b[39m]\n",
      "\u001b[1;31mNameError\u001b[0m: name 'df_arrests' is not defined"
     ]
    }
   ],
   "source": []
  },
  {
   "cell_type": "code",
   "execution_count": null,
   "id": "52efb828",
   "metadata": {},
   "outputs": [],
   "source": []
  }
 ],
 "metadata": {
  "kernelspec": {
   "display_name": "Python 3 (ipykernel)",
   "language": "python",
   "name": "python3"
  },
  "language_info": {
   "codemirror_mode": {
    "name": "ipython",
    "version": 3
   },
   "file_extension": ".py",
   "mimetype": "text/x-python",
   "name": "python",
   "nbconvert_exporter": "python",
   "pygments_lexer": "ipython3",
   "version": "3.11.5"
  }
 },
 "nbformat": 4,
 "nbformat_minor": 5
}

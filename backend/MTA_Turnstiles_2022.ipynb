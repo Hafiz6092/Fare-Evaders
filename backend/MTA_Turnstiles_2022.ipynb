{
 "cells": [
  {
   "cell_type": "code",
   "execution_count": 1,
   "metadata": {
    "id": "eDsovmVeMfp4"
   },
   "outputs": [],
   "source": [
    "import pandas as pd\n",
    "import numpy as np\n",
    "from datetime import datetime, timedelta\n",
    "import seaborn as sns\n",
    "%matplotlib inline\n",
    "import matplotlib\n",
    "import matplotlib.pyplot as plt\n",
    "from matplotlib import mlab\n",
    "import matplotlib.ticker as ticker\n",
    "from matplotlib.ticker import FuncFormatter\n",
    "matplotlib.style.use('ggplot')\n",
    "import sqlite3\n",
    "import warnings\n",
    "warnings.filterwarnings('ignore')\n",
    "pd.options.mode.chained_assignment = None"
   ]
  },
  {
   "cell_type": "markdown",
   "metadata": {
    "id": "kgFuNgDBdgOQ"
   },
   "source": [
    "# Importing the Dataset and performing EDA"
   ]
  },
  {
   "cell_type": "code",
   "execution_count": 2,
   "metadata": {
    "id": "-s_ZzKQYMm-s"
   },
   "outputs": [],
   "source": [
    "url = \"https://data.ny.gov/api/views/k7j9-jnct/rows.csv?accessType=DOWNLOAD\"\n",
    "mta_2022 = pd.read_csv(url)"
   ]
  },
  {
   "cell_type": "code",
   "execution_count": 3,
   "metadata": {
    "id": "DvNV3mWIYAzj"
   },
   "outputs": [],
   "source": [
    "# Load both datasets\n",
    "mta_2021 = pd.read_csv(\"https://data.ny.gov/api/views/uu7b-3kff/rows.csv?accessType=DOWNLOAD\")"
   ]
  },
  {
   "cell_type": "code",
   "execution_count": 4,
   "metadata": {
    "colab": {
     "base_uri": "https://localhost:8080/",
     "height": 206
    },
    "id": "1qCxK-cmmkb4",
    "outputId": "e0985f47-64d2-4bcf-f8ad-1b73377e9a9c"
   },
   "outputs": [
    {
     "data": {
      "text/html": [
       "<div>\n",
       "<style scoped>\n",
       "    .dataframe tbody tr th:only-of-type {\n",
       "        vertical-align: middle;\n",
       "    }\n",
       "\n",
       "    .dataframe tbody tr th {\n",
       "        vertical-align: top;\n",
       "    }\n",
       "\n",
       "    .dataframe thead th {\n",
       "        text-align: right;\n",
       "    }\n",
       "</style>\n",
       "<table border=\"1\" class=\"dataframe\">\n",
       "  <thead>\n",
       "    <tr style=\"text-align: right;\">\n",
       "      <th></th>\n",
       "      <th>C/A</th>\n",
       "      <th>Unit</th>\n",
       "      <th>SCP</th>\n",
       "      <th>Line Name</th>\n",
       "      <th>Division</th>\n",
       "      <th>Date</th>\n",
       "      <th>Time</th>\n",
       "      <th>Description</th>\n",
       "      <th>Entries</th>\n",
       "      <th>Exits</th>\n",
       "    </tr>\n",
       "  </thead>\n",
       "  <tbody>\n",
       "    <tr>\n",
       "      <th>0</th>\n",
       "      <td>A002</td>\n",
       "      <td>R051</td>\n",
       "      <td>02-00-00</td>\n",
       "      <td>NQR456W</td>\n",
       "      <td>BMT</td>\n",
       "      <td>01/01/2022</td>\n",
       "      <td>03:00:00</td>\n",
       "      <td>REGULAR</td>\n",
       "      <td>7675872</td>\n",
       "      <td>2649548</td>\n",
       "    </tr>\n",
       "    <tr>\n",
       "      <th>1</th>\n",
       "      <td>A002</td>\n",
       "      <td>R051</td>\n",
       "      <td>02-00-00</td>\n",
       "      <td>NQR456W</td>\n",
       "      <td>BMT</td>\n",
       "      <td>01/01/2022</td>\n",
       "      <td>07:00:00</td>\n",
       "      <td>REGULAR</td>\n",
       "      <td>7675876</td>\n",
       "      <td>2649551</td>\n",
       "    </tr>\n",
       "    <tr>\n",
       "      <th>2</th>\n",
       "      <td>A002</td>\n",
       "      <td>R051</td>\n",
       "      <td>02-00-00</td>\n",
       "      <td>NQR456W</td>\n",
       "      <td>BMT</td>\n",
       "      <td>01/01/2022</td>\n",
       "      <td>11:00:00</td>\n",
       "      <td>REGULAR</td>\n",
       "      <td>7675887</td>\n",
       "      <td>2649594</td>\n",
       "    </tr>\n",
       "    <tr>\n",
       "      <th>3</th>\n",
       "      <td>A002</td>\n",
       "      <td>R051</td>\n",
       "      <td>02-00-00</td>\n",
       "      <td>NQR456W</td>\n",
       "      <td>BMT</td>\n",
       "      <td>01/01/2022</td>\n",
       "      <td>15:00:00</td>\n",
       "      <td>REGULAR</td>\n",
       "      <td>7675895</td>\n",
       "      <td>2649626</td>\n",
       "    </tr>\n",
       "    <tr>\n",
       "      <th>4</th>\n",
       "      <td>A002</td>\n",
       "      <td>R051</td>\n",
       "      <td>02-00-00</td>\n",
       "      <td>NQR456W</td>\n",
       "      <td>BMT</td>\n",
       "      <td>01/01/2022</td>\n",
       "      <td>19:00:00</td>\n",
       "      <td>REGULAR</td>\n",
       "      <td>7675920</td>\n",
       "      <td>2649657</td>\n",
       "    </tr>\n",
       "  </tbody>\n",
       "</table>\n",
       "</div>"
      ],
      "text/plain": [
       "    C/A  Unit       SCP Line Name Division        Date      Time Description  \\\n",
       "0  A002  R051  02-00-00   NQR456W      BMT  01/01/2022  03:00:00     REGULAR   \n",
       "1  A002  R051  02-00-00   NQR456W      BMT  01/01/2022  07:00:00     REGULAR   \n",
       "2  A002  R051  02-00-00   NQR456W      BMT  01/01/2022  11:00:00     REGULAR   \n",
       "3  A002  R051  02-00-00   NQR456W      BMT  01/01/2022  15:00:00     REGULAR   \n",
       "4  A002  R051  02-00-00   NQR456W      BMT  01/01/2022  19:00:00     REGULAR   \n",
       "\n",
       "   Entries  Exits                                                       \n",
       "0  7675872                                            2649548           \n",
       "1  7675876                                            2649551           \n",
       "2  7675887                                            2649594           \n",
       "3  7675895                                            2649626           \n",
       "4  7675920                                            2649657           "
      ]
     },
     "execution_count": 4,
     "metadata": {},
     "output_type": "execute_result"
    }
   ],
   "source": [
    "mta_2022.head()"
   ]
  },
  {
   "cell_type": "code",
   "execution_count": 5,
   "metadata": {
    "colab": {
     "base_uri": "https://localhost:8080/",
     "height": 206
    },
    "id": "FAyvejUfmm4i",
    "outputId": "6eed7925-ae43-4025-8907-8cb879fc96ea"
   },
   "outputs": [
    {
     "data": {
      "text/html": [
       "<div>\n",
       "<style scoped>\n",
       "    .dataframe tbody tr th:only-of-type {\n",
       "        vertical-align: middle;\n",
       "    }\n",
       "\n",
       "    .dataframe tbody tr th {\n",
       "        vertical-align: top;\n",
       "    }\n",
       "\n",
       "    .dataframe thead th {\n",
       "        text-align: right;\n",
       "    }\n",
       "</style>\n",
       "<table border=\"1\" class=\"dataframe\">\n",
       "  <thead>\n",
       "    <tr style=\"text-align: right;\">\n",
       "      <th></th>\n",
       "      <th>C/A</th>\n",
       "      <th>Unit</th>\n",
       "      <th>SCP</th>\n",
       "      <th>Station</th>\n",
       "      <th>Line Name</th>\n",
       "      <th>Division</th>\n",
       "      <th>Date</th>\n",
       "      <th>Time</th>\n",
       "      <th>Description</th>\n",
       "      <th>Entries</th>\n",
       "      <th>Exits</th>\n",
       "    </tr>\n",
       "  </thead>\n",
       "  <tbody>\n",
       "    <tr>\n",
       "      <th>0</th>\n",
       "      <td>A002</td>\n",
       "      <td>R051</td>\n",
       "      <td>02-00-00</td>\n",
       "      <td>59 ST</td>\n",
       "      <td>NQR456W</td>\n",
       "      <td>BMT</td>\n",
       "      <td>08/20/2021</td>\n",
       "      <td>00:00:00</td>\n",
       "      <td>REGULAR</td>\n",
       "      <td>7621953</td>\n",
       "      <td>2607461</td>\n",
       "    </tr>\n",
       "    <tr>\n",
       "      <th>1</th>\n",
       "      <td>A002</td>\n",
       "      <td>R051</td>\n",
       "      <td>02-00-00</td>\n",
       "      <td>59 ST</td>\n",
       "      <td>NQR456W</td>\n",
       "      <td>BMT</td>\n",
       "      <td>08/20/2021</td>\n",
       "      <td>04:00:00</td>\n",
       "      <td>REGULAR</td>\n",
       "      <td>7621962</td>\n",
       "      <td>2607463</td>\n",
       "    </tr>\n",
       "    <tr>\n",
       "      <th>2</th>\n",
       "      <td>A002</td>\n",
       "      <td>R051</td>\n",
       "      <td>02-00-00</td>\n",
       "      <td>59 ST</td>\n",
       "      <td>NQR456W</td>\n",
       "      <td>BMT</td>\n",
       "      <td>08/20/2021</td>\n",
       "      <td>08:00:00</td>\n",
       "      <td>REGULAR</td>\n",
       "      <td>7621971</td>\n",
       "      <td>2607505</td>\n",
       "    </tr>\n",
       "    <tr>\n",
       "      <th>3</th>\n",
       "      <td>A002</td>\n",
       "      <td>R051</td>\n",
       "      <td>02-00-00</td>\n",
       "      <td>59 ST</td>\n",
       "      <td>NQR456W</td>\n",
       "      <td>BMT</td>\n",
       "      <td>08/20/2021</td>\n",
       "      <td>12:00:00</td>\n",
       "      <td>REGULAR</td>\n",
       "      <td>7622037</td>\n",
       "      <td>2607607</td>\n",
       "    </tr>\n",
       "    <tr>\n",
       "      <th>4</th>\n",
       "      <td>A002</td>\n",
       "      <td>R051</td>\n",
       "      <td>02-00-00</td>\n",
       "      <td>59 ST</td>\n",
       "      <td>NQR456W</td>\n",
       "      <td>BMT</td>\n",
       "      <td>08/20/2021</td>\n",
       "      <td>16:00:00</td>\n",
       "      <td>REGULAR</td>\n",
       "      <td>7622194</td>\n",
       "      <td>2607644</td>\n",
       "    </tr>\n",
       "  </tbody>\n",
       "</table>\n",
       "</div>"
      ],
      "text/plain": [
       "    C/A  Unit       SCP Station Line Name Division        Date      Time  \\\n",
       "0  A002  R051  02-00-00   59 ST   NQR456W      BMT  08/20/2021  00:00:00   \n",
       "1  A002  R051  02-00-00   59 ST   NQR456W      BMT  08/20/2021  04:00:00   \n",
       "2  A002  R051  02-00-00   59 ST   NQR456W      BMT  08/20/2021  08:00:00   \n",
       "3  A002  R051  02-00-00   59 ST   NQR456W      BMT  08/20/2021  12:00:00   \n",
       "4  A002  R051  02-00-00   59 ST   NQR456W      BMT  08/20/2021  16:00:00   \n",
       "\n",
       "  Description  Entries  \\\n",
       "0     REGULAR  7621953   \n",
       "1     REGULAR  7621962   \n",
       "2     REGULAR  7621971   \n",
       "3     REGULAR  7622037   \n",
       "4     REGULAR  7622194   \n",
       "\n",
       "   Exits                                                       \n",
       "0                                            2607461           \n",
       "1                                            2607463           \n",
       "2                                            2607505           \n",
       "3                                            2607607           \n",
       "4                                            2607644           "
      ]
     },
     "execution_count": 5,
     "metadata": {},
     "output_type": "execute_result"
    }
   ],
   "source": [
    "mta_2021.head()"
   ]
  },
  {
   "cell_type": "code",
   "execution_count": 6,
   "metadata": {
    "id": "LVfqI2x7mm2T"
   },
   "outputs": [],
   "source": [
    "# Step 1: Creating a lookup table from mta_2021 with unique combinations of C/A, Unit, SCP, and Station\n",
    "station_lookup = mta_2021[['C/A', 'Unit', 'SCP', 'Station']].drop_duplicates()\n",
    "\n",
    "# Step 2: Merging the lookup with mta_2022 to add the Station column\n",
    "mta_2022_with_station = pd.merge(\n",
    "    mta_2022,\n",
    "    station_lookup,\n",
    "    on=['C/A', 'Unit', 'SCP'],\n",
    "    how='left'  # Use left join to keep all rows from mta_2022\n",
    ")"
   ]
  },
  {
   "cell_type": "code",
   "execution_count": 7,
   "metadata": {
    "colab": {
     "base_uri": "https://localhost:8080/"
    },
    "id": "VJTgcbFYnbko",
    "outputId": "a0bd5929-3386-44f7-eca3-3961096561d1"
   },
   "outputs": [
    {
     "data": {
      "text/plain": [
       "Index(['C/A', 'Unit', 'SCP', 'Line Name', 'Division', 'Date', 'Time',\n",
       "       'Description', 'Entries',\n",
       "       'Exits                                                     '],\n",
       "      dtype='object')"
      ]
     },
     "execution_count": 7,
     "metadata": {},
     "output_type": "execute_result"
    }
   ],
   "source": [
    "mta_2022.columns"
   ]
  },
  {
   "cell_type": "code",
   "execution_count": 8,
   "metadata": {
    "id": "YPrcRurJEcgA"
   },
   "outputs": [],
   "source": [
    "mta_2022.rename(columns={'Station_x': 'Station'}, inplace=True)"
   ]
  },
  {
   "cell_type": "code",
   "execution_count": 9,
   "metadata": {
    "colab": {
     "base_uri": "https://localhost:8080/",
     "height": 677
    },
    "id": "YSZRwCyqZRtx",
    "outputId": "7bb864e4-d17d-416d-fce7-14b37f2fd2aa"
   },
   "outputs": [
    {
     "data": {
      "text/html": [
       "<div>\n",
       "<style scoped>\n",
       "    .dataframe tbody tr th:only-of-type {\n",
       "        vertical-align: middle;\n",
       "    }\n",
       "\n",
       "    .dataframe tbody tr th {\n",
       "        vertical-align: top;\n",
       "    }\n",
       "\n",
       "    .dataframe thead th {\n",
       "        text-align: right;\n",
       "    }\n",
       "</style>\n",
       "<table border=\"1\" class=\"dataframe\">\n",
       "  <thead>\n",
       "    <tr style=\"text-align: right;\">\n",
       "      <th></th>\n",
       "      <th>C/A</th>\n",
       "      <th>Unit</th>\n",
       "      <th>SCP</th>\n",
       "      <th>Station</th>\n",
       "    </tr>\n",
       "  </thead>\n",
       "  <tbody>\n",
       "    <tr>\n",
       "      <th>0</th>\n",
       "      <td>A002</td>\n",
       "      <td>R051</td>\n",
       "      <td>02-00-00</td>\n",
       "      <td>59 ST</td>\n",
       "    </tr>\n",
       "    <tr>\n",
       "      <th>1</th>\n",
       "      <td>A002</td>\n",
       "      <td>R051</td>\n",
       "      <td>02-00-00</td>\n",
       "      <td>59 ST</td>\n",
       "    </tr>\n",
       "    <tr>\n",
       "      <th>2</th>\n",
       "      <td>A002</td>\n",
       "      <td>R051</td>\n",
       "      <td>02-00-00</td>\n",
       "      <td>59 ST</td>\n",
       "    </tr>\n",
       "    <tr>\n",
       "      <th>3</th>\n",
       "      <td>A002</td>\n",
       "      <td>R051</td>\n",
       "      <td>02-00-00</td>\n",
       "      <td>59 ST</td>\n",
       "    </tr>\n",
       "    <tr>\n",
       "      <th>4</th>\n",
       "      <td>A002</td>\n",
       "      <td>R051</td>\n",
       "      <td>02-00-00</td>\n",
       "      <td>59 ST</td>\n",
       "    </tr>\n",
       "    <tr>\n",
       "      <th>5</th>\n",
       "      <td>A002</td>\n",
       "      <td>R051</td>\n",
       "      <td>02-00-00</td>\n",
       "      <td>59 ST</td>\n",
       "    </tr>\n",
       "    <tr>\n",
       "      <th>6</th>\n",
       "      <td>A002</td>\n",
       "      <td>R051</td>\n",
       "      <td>02-00-00</td>\n",
       "      <td>59 ST</td>\n",
       "    </tr>\n",
       "    <tr>\n",
       "      <th>7</th>\n",
       "      <td>A002</td>\n",
       "      <td>R051</td>\n",
       "      <td>02-00-00</td>\n",
       "      <td>59 ST</td>\n",
       "    </tr>\n",
       "    <tr>\n",
       "      <th>8</th>\n",
       "      <td>A002</td>\n",
       "      <td>R051</td>\n",
       "      <td>02-00-00</td>\n",
       "      <td>59 ST</td>\n",
       "    </tr>\n",
       "    <tr>\n",
       "      <th>9</th>\n",
       "      <td>A002</td>\n",
       "      <td>R051</td>\n",
       "      <td>02-00-00</td>\n",
       "      <td>59 ST</td>\n",
       "    </tr>\n",
       "    <tr>\n",
       "      <th>10</th>\n",
       "      <td>A002</td>\n",
       "      <td>R051</td>\n",
       "      <td>02-00-00</td>\n",
       "      <td>59 ST</td>\n",
       "    </tr>\n",
       "    <tr>\n",
       "      <th>11</th>\n",
       "      <td>A002</td>\n",
       "      <td>R051</td>\n",
       "      <td>02-00-00</td>\n",
       "      <td>59 ST</td>\n",
       "    </tr>\n",
       "    <tr>\n",
       "      <th>12</th>\n",
       "      <td>A002</td>\n",
       "      <td>R051</td>\n",
       "      <td>02-00-00</td>\n",
       "      <td>59 ST</td>\n",
       "    </tr>\n",
       "    <tr>\n",
       "      <th>13</th>\n",
       "      <td>A002</td>\n",
       "      <td>R051</td>\n",
       "      <td>02-00-00</td>\n",
       "      <td>59 ST</td>\n",
       "    </tr>\n",
       "    <tr>\n",
       "      <th>14</th>\n",
       "      <td>A002</td>\n",
       "      <td>R051</td>\n",
       "      <td>02-00-00</td>\n",
       "      <td>59 ST</td>\n",
       "    </tr>\n",
       "    <tr>\n",
       "      <th>15</th>\n",
       "      <td>A002</td>\n",
       "      <td>R051</td>\n",
       "      <td>02-00-00</td>\n",
       "      <td>59 ST</td>\n",
       "    </tr>\n",
       "    <tr>\n",
       "      <th>16</th>\n",
       "      <td>A002</td>\n",
       "      <td>R051</td>\n",
       "      <td>02-00-00</td>\n",
       "      <td>59 ST</td>\n",
       "    </tr>\n",
       "    <tr>\n",
       "      <th>17</th>\n",
       "      <td>A002</td>\n",
       "      <td>R051</td>\n",
       "      <td>02-00-00</td>\n",
       "      <td>59 ST</td>\n",
       "    </tr>\n",
       "    <tr>\n",
       "      <th>18</th>\n",
       "      <td>A002</td>\n",
       "      <td>R051</td>\n",
       "      <td>02-00-00</td>\n",
       "      <td>59 ST</td>\n",
       "    </tr>\n",
       "    <tr>\n",
       "      <th>19</th>\n",
       "      <td>A002</td>\n",
       "      <td>R051</td>\n",
       "      <td>02-00-00</td>\n",
       "      <td>59 ST</td>\n",
       "    </tr>\n",
       "  </tbody>\n",
       "</table>\n",
       "</div>"
      ],
      "text/plain": [
       "     C/A  Unit       SCP Station\n",
       "0   A002  R051  02-00-00   59 ST\n",
       "1   A002  R051  02-00-00   59 ST\n",
       "2   A002  R051  02-00-00   59 ST\n",
       "3   A002  R051  02-00-00   59 ST\n",
       "4   A002  R051  02-00-00   59 ST\n",
       "5   A002  R051  02-00-00   59 ST\n",
       "6   A002  R051  02-00-00   59 ST\n",
       "7   A002  R051  02-00-00   59 ST\n",
       "8   A002  R051  02-00-00   59 ST\n",
       "9   A002  R051  02-00-00   59 ST\n",
       "10  A002  R051  02-00-00   59 ST\n",
       "11  A002  R051  02-00-00   59 ST\n",
       "12  A002  R051  02-00-00   59 ST\n",
       "13  A002  R051  02-00-00   59 ST\n",
       "14  A002  R051  02-00-00   59 ST\n",
       "15  A002  R051  02-00-00   59 ST\n",
       "16  A002  R051  02-00-00   59 ST\n",
       "17  A002  R051  02-00-00   59 ST\n",
       "18  A002  R051  02-00-00   59 ST\n",
       "19  A002  R051  02-00-00   59 ST"
      ]
     },
     "execution_count": 9,
     "metadata": {},
     "output_type": "execute_result"
    }
   ],
   "source": [
    "# Selecting only the identifier columns + STATION from 2021 and drop duplicates\n",
    "station_map = mta_2021[['C/A', 'Unit', 'SCP', 'Station']].drop_duplicates()\n",
    "\n",
    "# Merging station names into 2022 dataset\n",
    "mta_2022 = mta_2022.merge(station_map, on=['C/A', 'Unit', 'SCP'], how='left')\n",
    "\n",
    "# Sanity Check\n",
    "mta_2022[['C/A', 'Unit', 'SCP', 'Station']].head(20)"
   ]
  },
  {
   "cell_type": "code",
   "execution_count": 10,
   "metadata": {
    "id": "2sbyIGbPeE4z"
   },
   "outputs": [],
   "source": [
    "del mta_2021"
   ]
  },
  {
   "cell_type": "code",
   "execution_count": 11,
   "metadata": {
    "id": "n6mffGSqekpZ"
   },
   "outputs": [],
   "source": [
    "mta_2022 = mta_2022.dropna()"
   ]
  },
  {
   "cell_type": "code",
   "execution_count": 12,
   "metadata": {
    "colab": {
     "base_uri": "https://localhost:8080/",
     "height": 429
    },
    "id": "4Ice1kX2vKju",
    "outputId": "0ef4731f-1b39-430b-f19e-4d08327e084a"
   },
   "outputs": [
    {
     "data": {
      "text/plain": [
       "C/A                                                           0\n",
       "Unit                                                          0\n",
       "SCP                                                           0\n",
       "Line Name                                                     0\n",
       "Division                                                      0\n",
       "Date                                                          0\n",
       "Time                                                          0\n",
       "Description                                                   0\n",
       "Entries                                                       0\n",
       "Exits                                                         0\n",
       "Station                                                       0\n",
       "dtype: int64"
      ]
     },
     "execution_count": 12,
     "metadata": {},
     "output_type": "execute_result"
    }
   ],
   "source": [
    "mta_2022.isna().sum()"
   ]
  },
  {
   "cell_type": "code",
   "execution_count": 13,
   "metadata": {
    "colab": {
     "base_uri": "https://localhost:8080/"
    },
    "id": "rJALx7j_bGzn",
    "outputId": "f622de8b-7ce0-4517-c863-717a4cd6e544"
   },
   "outputs": [
    {
     "data": {
      "text/plain": [
       "Index(['C/A', 'Unit', 'SCP', 'Line Name', 'Division', 'Date', 'Time',\n",
       "       'Description', 'Entries',\n",
       "       'Exits                                                     ',\n",
       "       'Station'],\n",
       "      dtype='object')"
      ]
     },
     "execution_count": 13,
     "metadata": {},
     "output_type": "execute_result"
    }
   ],
   "source": [
    "mta_2022.columns"
   ]
  },
  {
   "cell_type": "code",
   "execution_count": 14,
   "metadata": {
    "colab": {
     "base_uri": "https://localhost:8080/",
     "height": 206
    },
    "id": "X-tI9XiUMp9d",
    "outputId": "f5c8067a-207f-44d7-a18a-06a200959eb7"
   },
   "outputs": [
    {
     "data": {
      "text/html": [
       "<div>\n",
       "<style scoped>\n",
       "    .dataframe tbody tr th:only-of-type {\n",
       "        vertical-align: middle;\n",
       "    }\n",
       "\n",
       "    .dataframe tbody tr th {\n",
       "        vertical-align: top;\n",
       "    }\n",
       "\n",
       "    .dataframe thead th {\n",
       "        text-align: right;\n",
       "    }\n",
       "</style>\n",
       "<table border=\"1\" class=\"dataframe\">\n",
       "  <thead>\n",
       "    <tr style=\"text-align: right;\">\n",
       "      <th></th>\n",
       "      <th>C/A</th>\n",
       "      <th>Unit</th>\n",
       "      <th>SCP</th>\n",
       "      <th>Line Name</th>\n",
       "      <th>Division</th>\n",
       "      <th>Date</th>\n",
       "      <th>Time</th>\n",
       "      <th>Description</th>\n",
       "      <th>Entries</th>\n",
       "      <th>Exits</th>\n",
       "      <th>Station</th>\n",
       "    </tr>\n",
       "  </thead>\n",
       "  <tbody>\n",
       "    <tr>\n",
       "      <th>0</th>\n",
       "      <td>A002</td>\n",
       "      <td>R051</td>\n",
       "      <td>02-00-00</td>\n",
       "      <td>NQR456W</td>\n",
       "      <td>BMT</td>\n",
       "      <td>01/01/2022</td>\n",
       "      <td>03:00:00</td>\n",
       "      <td>REGULAR</td>\n",
       "      <td>7675872</td>\n",
       "      <td>2649548</td>\n",
       "      <td>59 ST</td>\n",
       "    </tr>\n",
       "    <tr>\n",
       "      <th>1</th>\n",
       "      <td>A002</td>\n",
       "      <td>R051</td>\n",
       "      <td>02-00-00</td>\n",
       "      <td>NQR456W</td>\n",
       "      <td>BMT</td>\n",
       "      <td>01/01/2022</td>\n",
       "      <td>07:00:00</td>\n",
       "      <td>REGULAR</td>\n",
       "      <td>7675876</td>\n",
       "      <td>2649551</td>\n",
       "      <td>59 ST</td>\n",
       "    </tr>\n",
       "    <tr>\n",
       "      <th>2</th>\n",
       "      <td>A002</td>\n",
       "      <td>R051</td>\n",
       "      <td>02-00-00</td>\n",
       "      <td>NQR456W</td>\n",
       "      <td>BMT</td>\n",
       "      <td>01/01/2022</td>\n",
       "      <td>11:00:00</td>\n",
       "      <td>REGULAR</td>\n",
       "      <td>7675887</td>\n",
       "      <td>2649594</td>\n",
       "      <td>59 ST</td>\n",
       "    </tr>\n",
       "    <tr>\n",
       "      <th>3</th>\n",
       "      <td>A002</td>\n",
       "      <td>R051</td>\n",
       "      <td>02-00-00</td>\n",
       "      <td>NQR456W</td>\n",
       "      <td>BMT</td>\n",
       "      <td>01/01/2022</td>\n",
       "      <td>15:00:00</td>\n",
       "      <td>REGULAR</td>\n",
       "      <td>7675895</td>\n",
       "      <td>2649626</td>\n",
       "      <td>59 ST</td>\n",
       "    </tr>\n",
       "    <tr>\n",
       "      <th>4</th>\n",
       "      <td>A002</td>\n",
       "      <td>R051</td>\n",
       "      <td>02-00-00</td>\n",
       "      <td>NQR456W</td>\n",
       "      <td>BMT</td>\n",
       "      <td>01/01/2022</td>\n",
       "      <td>19:00:00</td>\n",
       "      <td>REGULAR</td>\n",
       "      <td>7675920</td>\n",
       "      <td>2649657</td>\n",
       "      <td>59 ST</td>\n",
       "    </tr>\n",
       "  </tbody>\n",
       "</table>\n",
       "</div>"
      ],
      "text/plain": [
       "    C/A  Unit       SCP Line Name Division        Date      Time Description  \\\n",
       "0  A002  R051  02-00-00   NQR456W      BMT  01/01/2022  03:00:00     REGULAR   \n",
       "1  A002  R051  02-00-00   NQR456W      BMT  01/01/2022  07:00:00     REGULAR   \n",
       "2  A002  R051  02-00-00   NQR456W      BMT  01/01/2022  11:00:00     REGULAR   \n",
       "3  A002  R051  02-00-00   NQR456W      BMT  01/01/2022  15:00:00     REGULAR   \n",
       "4  A002  R051  02-00-00   NQR456W      BMT  01/01/2022  19:00:00     REGULAR   \n",
       "\n",
       "   Entries  Exits                                                      Station  \n",
       "0  7675872                                            2649548            59 ST  \n",
       "1  7675876                                            2649551            59 ST  \n",
       "2  7675887                                            2649594            59 ST  \n",
       "3  7675895                                            2649626            59 ST  \n",
       "4  7675920                                            2649657            59 ST  "
      ]
     },
     "execution_count": 14,
     "metadata": {},
     "output_type": "execute_result"
    }
   ],
   "source": [
    "mta_2022.head()"
   ]
  },
  {
   "cell_type": "markdown",
   "metadata": {
    "id": "Q9PILW4RdtkA"
   },
   "source": [
    "Standardizing column names\n"
   ]
  },
  {
   "cell_type": "code",
   "execution_count": 15,
   "metadata": {
    "id": "h1XLVdBvNuhe"
   },
   "outputs": [],
   "source": [
    "def standardize_column_names(df):\n",
    "    df.columns = (\n",
    "        df.columns\n",
    "        .str.strip()\n",
    "        .str.lower()\n",
    "        .str.replace(r'\\s', '_', regex=True)  # Replace any whitespace character(s)\n",
    "    )\n",
    "    return df\n"
   ]
  },
  {
   "cell_type": "code",
   "execution_count": 16,
   "metadata": {
    "colab": {
     "base_uri": "https://localhost:8080/",
     "height": 206
    },
    "id": "xgTX99dxOGQV",
    "outputId": "0f4b733e-9468-43f5-9b7a-112b8009895e"
   },
   "outputs": [
    {
     "data": {
      "text/html": [
       "<div>\n",
       "<style scoped>\n",
       "    .dataframe tbody tr th:only-of-type {\n",
       "        vertical-align: middle;\n",
       "    }\n",
       "\n",
       "    .dataframe tbody tr th {\n",
       "        vertical-align: top;\n",
       "    }\n",
       "\n",
       "    .dataframe thead th {\n",
       "        text-align: right;\n",
       "    }\n",
       "</style>\n",
       "<table border=\"1\" class=\"dataframe\">\n",
       "  <thead>\n",
       "    <tr style=\"text-align: right;\">\n",
       "      <th></th>\n",
       "      <th>c/a</th>\n",
       "      <th>unit</th>\n",
       "      <th>scp</th>\n",
       "      <th>line_name</th>\n",
       "      <th>division</th>\n",
       "      <th>date</th>\n",
       "      <th>time</th>\n",
       "      <th>description</th>\n",
       "      <th>entries</th>\n",
       "      <th>exits</th>\n",
       "      <th>station</th>\n",
       "    </tr>\n",
       "  </thead>\n",
       "  <tbody>\n",
       "    <tr>\n",
       "      <th>0</th>\n",
       "      <td>A002</td>\n",
       "      <td>R051</td>\n",
       "      <td>02-00-00</td>\n",
       "      <td>NQR456W</td>\n",
       "      <td>BMT</td>\n",
       "      <td>01/01/2022</td>\n",
       "      <td>03:00:00</td>\n",
       "      <td>REGULAR</td>\n",
       "      <td>7675872</td>\n",
       "      <td>2649548</td>\n",
       "      <td>59 ST</td>\n",
       "    </tr>\n",
       "    <tr>\n",
       "      <th>1</th>\n",
       "      <td>A002</td>\n",
       "      <td>R051</td>\n",
       "      <td>02-00-00</td>\n",
       "      <td>NQR456W</td>\n",
       "      <td>BMT</td>\n",
       "      <td>01/01/2022</td>\n",
       "      <td>07:00:00</td>\n",
       "      <td>REGULAR</td>\n",
       "      <td>7675876</td>\n",
       "      <td>2649551</td>\n",
       "      <td>59 ST</td>\n",
       "    </tr>\n",
       "    <tr>\n",
       "      <th>2</th>\n",
       "      <td>A002</td>\n",
       "      <td>R051</td>\n",
       "      <td>02-00-00</td>\n",
       "      <td>NQR456W</td>\n",
       "      <td>BMT</td>\n",
       "      <td>01/01/2022</td>\n",
       "      <td>11:00:00</td>\n",
       "      <td>REGULAR</td>\n",
       "      <td>7675887</td>\n",
       "      <td>2649594</td>\n",
       "      <td>59 ST</td>\n",
       "    </tr>\n",
       "    <tr>\n",
       "      <th>3</th>\n",
       "      <td>A002</td>\n",
       "      <td>R051</td>\n",
       "      <td>02-00-00</td>\n",
       "      <td>NQR456W</td>\n",
       "      <td>BMT</td>\n",
       "      <td>01/01/2022</td>\n",
       "      <td>15:00:00</td>\n",
       "      <td>REGULAR</td>\n",
       "      <td>7675895</td>\n",
       "      <td>2649626</td>\n",
       "      <td>59 ST</td>\n",
       "    </tr>\n",
       "    <tr>\n",
       "      <th>4</th>\n",
       "      <td>A002</td>\n",
       "      <td>R051</td>\n",
       "      <td>02-00-00</td>\n",
       "      <td>NQR456W</td>\n",
       "      <td>BMT</td>\n",
       "      <td>01/01/2022</td>\n",
       "      <td>19:00:00</td>\n",
       "      <td>REGULAR</td>\n",
       "      <td>7675920</td>\n",
       "      <td>2649657</td>\n",
       "      <td>59 ST</td>\n",
       "    </tr>\n",
       "  </tbody>\n",
       "</table>\n",
       "</div>"
      ],
      "text/plain": [
       "    c/a  unit       scp line_name division        date      time description  \\\n",
       "0  A002  R051  02-00-00   NQR456W      BMT  01/01/2022  03:00:00     REGULAR   \n",
       "1  A002  R051  02-00-00   NQR456W      BMT  01/01/2022  07:00:00     REGULAR   \n",
       "2  A002  R051  02-00-00   NQR456W      BMT  01/01/2022  11:00:00     REGULAR   \n",
       "3  A002  R051  02-00-00   NQR456W      BMT  01/01/2022  15:00:00     REGULAR   \n",
       "4  A002  R051  02-00-00   NQR456W      BMT  01/01/2022  19:00:00     REGULAR   \n",
       "\n",
       "   entries    exits station  \n",
       "0  7675872  2649548   59 ST  \n",
       "1  7675876  2649551   59 ST  \n",
       "2  7675887  2649594   59 ST  \n",
       "3  7675895  2649626   59 ST  \n",
       "4  7675920  2649657   59 ST  "
      ]
     },
     "execution_count": 16,
     "metadata": {},
     "output_type": "execute_result"
    }
   ],
   "source": [
    "standardize_column_names(mta_2022)\n",
    "mta_2022.head()"
   ]
  },
  {
   "cell_type": "markdown",
   "metadata": {
    "id": "08m6g-zjeZtr"
   },
   "source": [
    "In a perfect world we would have a 1-to-1 ratio for entries and exits. Everyone person entering and exiting from the train station would be accounted for. As we can see, that is not the case. The average for entries is significantly higher than the average number of exits. This suggests that a large amount of people who leave are not being tracked.\n",
    "\n",
    "The missing information is likely due to people opting to exit from emergency exit doors which cannot record how many people pass through it, both for entries and exits."
   ]
  },
  {
   "cell_type": "code",
   "execution_count": 17,
   "metadata": {
    "colab": {
     "base_uri": "https://localhost:8080/",
     "height": 335
    },
    "id": "peUXQV8TTAVU",
    "outputId": "23d6e086-e4bb-41d8-e646-d7ac02a09539"
   },
   "outputs": [
    {
     "data": {
      "text/plain": [
       "count    1.093337e+07\n",
       "mean     4.241734e+07\n",
       "std      2.221060e+08\n",
       "min      0.000000e+00\n",
       "25%      2.579540e+05\n",
       "50%      1.345517e+06\n",
       "75%      5.950550e+06\n",
       "max      2.147338e+09\n",
       "Name: entries, dtype: float64"
      ]
     },
     "execution_count": 17,
     "metadata": {},
     "output_type": "execute_result"
    }
   ],
   "source": [
    "mta_2022['entries'].describe()"
   ]
  },
  {
   "cell_type": "code",
   "execution_count": 18,
   "metadata": {
    "colab": {
     "base_uri": "https://localhost:8080/",
     "height": 335
    },
    "id": "MP-pOLTyU8wm",
    "outputId": "439c7f72-df4c-4215-850d-126decb19d02"
   },
   "outputs": [
    {
     "data": {
      "text/plain": [
       "count    1.093337e+07\n",
       "mean     3.396266e+07\n",
       "std      1.952118e+08\n",
       "min      0.000000e+00\n",
       "25%      1.416890e+05\n",
       "50%      9.033190e+05\n",
       "75%      3.954830e+06\n",
       "max      2.147414e+09\n",
       "Name: exits, dtype: float64"
      ]
     },
     "execution_count": 18,
     "metadata": {},
     "output_type": "execute_result"
    }
   ],
   "source": [
    "mta_2022['exits'].describe()"
   ]
  },
  {
   "cell_type": "markdown",
   "metadata": {
    "id": "O3MZms4Ld3QG"
   },
   "source": [
    "Creating a column that indentifies each individual turnstile"
   ]
  },
  {
   "cell_type": "code",
   "execution_count": 19,
   "metadata": {
    "colab": {
     "base_uri": "https://localhost:8080/",
     "height": 241
    },
    "id": "OaeJlKL1Utrp",
    "outputId": "9cd2f90c-6d46-42e1-9dbf-2bdca05a02ff"
   },
   "outputs": [
    {
     "data": {
      "text/plain": [
       "0    A002 R051 02-00-00\n",
       "1    A002 R051 02-00-00\n",
       "2    A002 R051 02-00-00\n",
       "3    A002 R051 02-00-00\n",
       "4    A002 R051 02-00-00\n",
       "Name: turnstile_id, dtype: object"
      ]
     },
     "execution_count": 19,
     "metadata": {},
     "output_type": "execute_result"
    }
   ],
   "source": [
    "mta_2022['turnstile_id'] = mta_2022['c/a'] + ' ' + mta_2022['unit'] + ' ' + mta_2022['scp']\n",
    "mta_2022['turnstile_id'].head()"
   ]
  },
  {
   "cell_type": "code",
   "execution_count": 20,
   "metadata": {
    "colab": {
     "base_uri": "https://localhost:8080/",
     "height": 461
    },
    "id": "jyz8FadqaHrS",
    "outputId": "4582ad14-82ab-4ab5-af05-6bbca2841518"
   },
   "outputs": [
    {
     "data": {
      "text/plain": [
       "c/a             0\n",
       "unit            0\n",
       "scp             0\n",
       "line_name       0\n",
       "division        0\n",
       "date            0\n",
       "time            0\n",
       "description     0\n",
       "entries         0\n",
       "exits           0\n",
       "station         0\n",
       "turnstile_id    0\n",
       "dtype: int64"
      ]
     },
     "execution_count": 20,
     "metadata": {},
     "output_type": "execute_result"
    }
   ],
   "source": [
    "mta_2022.isnull().sum()"
   ]
  },
  {
   "cell_type": "markdown",
   "metadata": {
    "id": "Q5jmEkRP90bI"
   },
   "source": [
    "There are no nulls in our dataset but is this really true?"
   ]
  },
  {
   "cell_type": "code",
   "execution_count": 21,
   "metadata": {
    "colab": {
     "base_uri": "https://localhost:8080/"
    },
    "id": "5UrP0NPO94Ap",
    "outputId": "a5035224-93be-40c2-c83a-479449c3abcd"
   },
   "outputs": [
    {
     "name": "stdout",
     "output_type": "stream",
     "text": [
      "{'entries': 158031, 'exits': 437109}\n"
     ]
    }
   ],
   "source": [
    "zero_counts = {\n",
    "    'entries': (mta_2022['entries'] == 0).sum(),\n",
    "    'exits': (mta_2022['exits'] == 0).sum()\n",
    "}\n",
    "print(zero_counts)"
   ]
  },
  {
   "cell_type": "code",
   "execution_count": 22,
   "metadata": {
    "colab": {
     "base_uri": "https://localhost:8080/",
     "height": 455
    },
    "id": "t5y8-uWJfGOv",
    "outputId": "b4c0e577-3b5b-4df9-8ff3-373da63a34c1"
   },
   "outputs": [
    {
     "data": {
      "text/html": [
       "<div>\n",
       "<style scoped>\n",
       "    .dataframe tbody tr th:only-of-type {\n",
       "        vertical-align: middle;\n",
       "    }\n",
       "\n",
       "    .dataframe tbody tr th {\n",
       "        vertical-align: top;\n",
       "    }\n",
       "\n",
       "    .dataframe thead th {\n",
       "        text-align: right;\n",
       "    }\n",
       "</style>\n",
       "<table border=\"1\" class=\"dataframe\">\n",
       "  <thead>\n",
       "    <tr style=\"text-align: right;\">\n",
       "      <th></th>\n",
       "      <th>c/a</th>\n",
       "      <th>unit</th>\n",
       "      <th>scp</th>\n",
       "      <th>line_name</th>\n",
       "      <th>division</th>\n",
       "      <th>date</th>\n",
       "      <th>time</th>\n",
       "      <th>description</th>\n",
       "      <th>entries</th>\n",
       "      <th>exits</th>\n",
       "      <th>station</th>\n",
       "    </tr>\n",
       "    <tr>\n",
       "      <th>turnstile_id</th>\n",
       "      <th></th>\n",
       "      <th></th>\n",
       "      <th></th>\n",
       "      <th></th>\n",
       "      <th></th>\n",
       "      <th></th>\n",
       "      <th></th>\n",
       "      <th></th>\n",
       "      <th></th>\n",
       "      <th></th>\n",
       "      <th></th>\n",
       "    </tr>\n",
       "  </thead>\n",
       "  <tbody>\n",
       "    <tr>\n",
       "      <th>A002 R051 02-00-00</th>\n",
       "      <td>2185</td>\n",
       "      <td>2185</td>\n",
       "      <td>2185</td>\n",
       "      <td>2185</td>\n",
       "      <td>2185</td>\n",
       "      <td>2185</td>\n",
       "      <td>2185</td>\n",
       "      <td>2185</td>\n",
       "      <td>2185</td>\n",
       "      <td>2185</td>\n",
       "      <td>2185</td>\n",
       "    </tr>\n",
       "    <tr>\n",
       "      <th>A002 R051 02-00-01</th>\n",
       "      <td>2185</td>\n",
       "      <td>2185</td>\n",
       "      <td>2185</td>\n",
       "      <td>2185</td>\n",
       "      <td>2185</td>\n",
       "      <td>2185</td>\n",
       "      <td>2185</td>\n",
       "      <td>2185</td>\n",
       "      <td>2185</td>\n",
       "      <td>2185</td>\n",
       "      <td>2185</td>\n",
       "    </tr>\n",
       "    <tr>\n",
       "      <th>A002 R051 02-03-00</th>\n",
       "      <td>2186</td>\n",
       "      <td>2186</td>\n",
       "      <td>2186</td>\n",
       "      <td>2186</td>\n",
       "      <td>2186</td>\n",
       "      <td>2186</td>\n",
       "      <td>2186</td>\n",
       "      <td>2186</td>\n",
       "      <td>2186</td>\n",
       "      <td>2186</td>\n",
       "      <td>2186</td>\n",
       "    </tr>\n",
       "    <tr>\n",
       "      <th>A002 R051 02-03-01</th>\n",
       "      <td>2186</td>\n",
       "      <td>2186</td>\n",
       "      <td>2186</td>\n",
       "      <td>2186</td>\n",
       "      <td>2186</td>\n",
       "      <td>2186</td>\n",
       "      <td>2186</td>\n",
       "      <td>2186</td>\n",
       "      <td>2186</td>\n",
       "      <td>2186</td>\n",
       "      <td>2186</td>\n",
       "    </tr>\n",
       "    <tr>\n",
       "      <th>A002 R051 02-03-02</th>\n",
       "      <td>2186</td>\n",
       "      <td>2186</td>\n",
       "      <td>2186</td>\n",
       "      <td>2186</td>\n",
       "      <td>2186</td>\n",
       "      <td>2186</td>\n",
       "      <td>2186</td>\n",
       "      <td>2186</td>\n",
       "      <td>2186</td>\n",
       "      <td>2186</td>\n",
       "      <td>2186</td>\n",
       "    </tr>\n",
       "    <tr>\n",
       "      <th>...</th>\n",
       "      <td>...</td>\n",
       "      <td>...</td>\n",
       "      <td>...</td>\n",
       "      <td>...</td>\n",
       "      <td>...</td>\n",
       "      <td>...</td>\n",
       "      <td>...</td>\n",
       "      <td>...</td>\n",
       "      <td>...</td>\n",
       "      <td>...</td>\n",
       "      <td>...</td>\n",
       "    </tr>\n",
       "    <tr>\n",
       "      <th>TRAM2 R469 00-00-01</th>\n",
       "      <td>2234</td>\n",
       "      <td>2234</td>\n",
       "      <td>2234</td>\n",
       "      <td>2234</td>\n",
       "      <td>2234</td>\n",
       "      <td>2234</td>\n",
       "      <td>2234</td>\n",
       "      <td>2234</td>\n",
       "      <td>2234</td>\n",
       "      <td>2234</td>\n",
       "      <td>2234</td>\n",
       "    </tr>\n",
       "    <tr>\n",
       "      <th>TRAM2 R469 00-03-00</th>\n",
       "      <td>2234</td>\n",
       "      <td>2234</td>\n",
       "      <td>2234</td>\n",
       "      <td>2234</td>\n",
       "      <td>2234</td>\n",
       "      <td>2234</td>\n",
       "      <td>2234</td>\n",
       "      <td>2234</td>\n",
       "      <td>2234</td>\n",
       "      <td>2234</td>\n",
       "      <td>2234</td>\n",
       "    </tr>\n",
       "    <tr>\n",
       "      <th>TRAM2 R469 00-03-01</th>\n",
       "      <td>2234</td>\n",
       "      <td>2234</td>\n",
       "      <td>2234</td>\n",
       "      <td>2234</td>\n",
       "      <td>2234</td>\n",
       "      <td>2234</td>\n",
       "      <td>2234</td>\n",
       "      <td>2234</td>\n",
       "      <td>2234</td>\n",
       "      <td>2234</td>\n",
       "      <td>2234</td>\n",
       "    </tr>\n",
       "    <tr>\n",
       "      <th>TRAM2 R469 00-05-00</th>\n",
       "      <td>2233</td>\n",
       "      <td>2233</td>\n",
       "      <td>2233</td>\n",
       "      <td>2233</td>\n",
       "      <td>2233</td>\n",
       "      <td>2233</td>\n",
       "      <td>2233</td>\n",
       "      <td>2233</td>\n",
       "      <td>2233</td>\n",
       "      <td>2233</td>\n",
       "      <td>2233</td>\n",
       "    </tr>\n",
       "    <tr>\n",
       "      <th>TRAM2 R469 00-05-01</th>\n",
       "      <td>2232</td>\n",
       "      <td>2232</td>\n",
       "      <td>2232</td>\n",
       "      <td>2232</td>\n",
       "      <td>2232</td>\n",
       "      <td>2232</td>\n",
       "      <td>2232</td>\n",
       "      <td>2232</td>\n",
       "      <td>2232</td>\n",
       "      <td>2232</td>\n",
       "      <td>2232</td>\n",
       "    </tr>\n",
       "  </tbody>\n",
       "</table>\n",
       "<p>5041 rows × 11 columns</p>\n",
       "</div>"
      ],
      "text/plain": [
       "                      c/a  unit   scp  line_name  division  date  time  \\\n",
       "turnstile_id                                                             \n",
       "A002 R051 02-00-00   2185  2185  2185       2185      2185  2185  2185   \n",
       "A002 R051 02-00-01   2185  2185  2185       2185      2185  2185  2185   \n",
       "A002 R051 02-03-00   2186  2186  2186       2186      2186  2186  2186   \n",
       "A002 R051 02-03-01   2186  2186  2186       2186      2186  2186  2186   \n",
       "A002 R051 02-03-02   2186  2186  2186       2186      2186  2186  2186   \n",
       "...                   ...   ...   ...        ...       ...   ...   ...   \n",
       "TRAM2 R469 00-00-01  2234  2234  2234       2234      2234  2234  2234   \n",
       "TRAM2 R469 00-03-00  2234  2234  2234       2234      2234  2234  2234   \n",
       "TRAM2 R469 00-03-01  2234  2234  2234       2234      2234  2234  2234   \n",
       "TRAM2 R469 00-05-00  2233  2233  2233       2233      2233  2233  2233   \n",
       "TRAM2 R469 00-05-01  2232  2232  2232       2232      2232  2232  2232   \n",
       "\n",
       "                     description  entries  exits  station  \n",
       "turnstile_id                                               \n",
       "A002 R051 02-00-00          2185     2185   2185     2185  \n",
       "A002 R051 02-00-01          2185     2185   2185     2185  \n",
       "A002 R051 02-03-00          2186     2186   2186     2186  \n",
       "A002 R051 02-03-01          2186     2186   2186     2186  \n",
       "A002 R051 02-03-02          2186     2186   2186     2186  \n",
       "...                          ...      ...    ...      ...  \n",
       "TRAM2 R469 00-00-01         2234     2234   2234     2234  \n",
       "TRAM2 R469 00-03-00         2234     2234   2234     2234  \n",
       "TRAM2 R469 00-03-01         2234     2234   2234     2234  \n",
       "TRAM2 R469 00-05-00         2233     2233   2233     2233  \n",
       "TRAM2 R469 00-05-01         2232     2232   2232     2232  \n",
       "\n",
       "[5041 rows x 11 columns]"
      ]
     },
     "execution_count": 22,
     "metadata": {},
     "output_type": "execute_result"
    }
   ],
   "source": [
    "mta_2022.groupby('turnstile_id').count()"
   ]
  },
  {
   "cell_type": "markdown",
   "metadata": {
    "id": "xmre8NhQ_Z1T"
   },
   "source": [
    "I'm going to find the busiest stations. I think it's useful to visualize which areas are extremely likely to have the highest rates of fare evasion because of their overall traffic."
   ]
  },
  {
   "cell_type": "code",
   "execution_count": 23,
   "metadata": {
    "colab": {
     "base_uri": "https://localhost:8080/"
    },
    "id": "mm2EXanSfuxK",
    "outputId": "7e123c59-5a2c-43d7-afe2-d822f5b922ef"
   },
   "outputs": [
    {
     "name": "stdout",
     "output_type": "stream",
     "text": [
      "                        entries           exits           total\n",
      "station                                                        \n",
      "125 ST           17911867521880  15077186980153  32989054502033\n",
      "42 ST-PORT AUTH  16491301940267  13695363359293  30186665299560\n",
      "FULTON ST        15010490774427  12328493377588  27338984152015\n",
      "23 ST            12549547262408  12650079367258  25199626629666\n",
      "DEKALB AV        14422658207458   9651649825733  24074308033191\n",
      "CANAL ST          8885515940526  11946566149915  20832082090441\n",
      "34 ST-PENN STA    9999658319292   9930910594606  19930568913898\n",
      "TIMES SQ-42 ST   10614890093948   8634205401165  19249095495113\n",
      "161/YANKEE STAD   8634403961975   9031027322190  17665431284165\n",
      "183 ST           10054249948276   6020697645438  16074947593714\n"
     ]
    }
   ],
   "source": [
    "# Sum entries and exits for each station\n",
    "busiest_stations = (\n",
    "    mta_2022.groupby('station')[['entries', 'exits']]\n",
    "    .sum()\n",
    "    .assign(total=lambda df: df['entries'] + df['exits'])  # total traffic\n",
    "    .sort_values('total', ascending=False)\n",
    ")\n",
    "\n",
    "# Show top 10 busiest stations\n",
    "print(busiest_stations.head(10))\n"
   ]
  },
  {
   "cell_type": "code",
   "execution_count": 24,
   "metadata": {
    "colab": {
     "base_uri": "https://localhost:8080/",
     "height": 607
    },
    "id": "1OWEf5D4_5NX",
    "outputId": "531e9628-d281-4911-8e40-4ba8a7d232d5"
   },
   "outputs": [
    {
     "data": {
      "image/png": "[encoded data removed]",
      "text/plain": [
       "<Figure size 1200x600 with 1 Axes>"
      ]
     },
     "metadata": {},
     "output_type": "display_data"
    }
   ],
   "source": [
    "# Getting the top 10 busiest stations\n",
    "top10 = busiest_stations.head(10).reset_index()\n",
    "\n",
    "\n",
    "plt.figure(figsize=(12, 6))\n",
    "\n",
    "plt.gca().yaxis.set_major_formatter(ticker.FuncFormatter(lambda x, _: f'{x*1e-13:.1f}e13'))\n",
    "plt.ylim(0, 0.5e14)\n",
    "\n",
    "plt.bar(top10['station'], top10['total'], color='orange')\n",
    "plt.xticks(rotation=45, ha='right')\n",
    "plt.title(\"Top 10 Busiest MTA Stations (Total Entries + Exits) 2022\")\n",
    "plt.xlabel(\"Station\")\n",
    "plt.ylabel(\"Total Traffic\")\n",
    "plt.tight_layout()\n",
    "plt.show()\n"
   ]
  },
  {
   "cell_type": "markdown",
   "metadata": {
    "id": "0i1asPRw_xhw"
   },
   "source": [
    "I'm going to do the same for the train lines to see which are used the most."
   ]
  },
  {
   "cell_type": "code",
   "execution_count": 25,
   "metadata": {
    "id": "gwmk9aAJ_l4W"
   },
   "outputs": [],
   "source": [
    "busiest_lines = (\n",
    "    mta_2022.groupby('line_name')[['entries', 'exits']]\n",
    "    .sum()\n",
    "    .assign(total=lambda df: df['entries'] + df['exits'])\n",
    "    .sort_values('total', ascending=False)\n",
    ")"
   ]
  },
  {
   "cell_type": "code",
   "execution_count": 27,
   "metadata": {
    "id": "wWYJvCkWA6Ds"
   },
   "outputs": [
    {
     "ename": "MemoryError",
     "evalue": "Unable to allocate 667. MiB for an array with shape (8, 10933369) and data type object",
     "output_type": "error",
     "traceback": [
      "\u001b[1;31m---------------------------------------------------------------------------\u001b[0m",
      "\u001b[1;31mMemoryError\u001b[0m                               Traceback (most recent call last)",
      "Cell \u001b[1;32mIn[27], line 2\u001b[0m\n\u001b[0;32m      1\u001b[0m \u001b[38;5;66;03m# Step 1: Make a copy to avoid changing the original\u001b[39;00m\n\u001b[1;32m----> 2\u001b[0m lines_expanded \u001b[38;5;241m=\u001b[39m mta_2022\u001b[38;5;241m.\u001b[39mcopy()\n\u001b[0;32m      4\u001b[0m \u001b[38;5;66;03m# Step 2: Split by space (e.g., \"A C E\" → [\"A\", \"C\", \"E\"])\u001b[39;00m\n\u001b[0;32m      5\u001b[0m lines_expanded[\u001b[38;5;124m'\u001b[39m\u001b[38;5;124mline_name\u001b[39m\u001b[38;5;124m'\u001b[39m] \u001b[38;5;241m=\u001b[39m lines_expanded[\u001b[38;5;124m'\u001b[39m\u001b[38;5;124mline_name\u001b[39m\u001b[38;5;124m'\u001b[39m]\u001b[38;5;241m.\u001b[39mstr\u001b[38;5;241m.\u001b[39msplit()\n",
      "File \u001b[1;32m~\\anaconda3\\Lib\\site-packages\\pandas\\core\\generic.py:6452\u001b[0m, in \u001b[0;36mNDFrame.copy\u001b[1;34m(self, deep)\u001b[0m\n\u001b[0;32m   6342\u001b[0m \u001b[38;5;129m@final\u001b[39m\n\u001b[0;32m   6343\u001b[0m \u001b[38;5;28;01mdef\u001b[39;00m \u001b[38;5;21mcopy\u001b[39m(\u001b[38;5;28mself\u001b[39m: NDFrameT, deep: bool_t \u001b[38;5;241m|\u001b[39m \u001b[38;5;28;01mNone\u001b[39;00m \u001b[38;5;241m=\u001b[39m \u001b[38;5;28;01mTrue\u001b[39;00m) \u001b[38;5;241m-\u001b[39m\u001b[38;5;241m>\u001b[39m NDFrameT:\n\u001b[0;32m   6344\u001b[0m \u001b[38;5;250m    \u001b[39m\u001b[38;5;124;03m\"\"\"\u001b[39;00m\n\u001b[0;32m   6345\u001b[0m \u001b[38;5;124;03m    Make a copy of this object's indices and data.\u001b[39;00m\n\u001b[0;32m   6346\u001b[0m \n\u001b[1;32m   (...)\u001b[0m\n\u001b[0;32m   6450\u001b[0m \u001b[38;5;124;03m    dtype: object\u001b[39;00m\n\u001b[0;32m   6451\u001b[0m \u001b[38;5;124;03m    \"\"\"\u001b[39;00m\n\u001b[1;32m-> 6452\u001b[0m     data \u001b[38;5;241m=\u001b[39m \u001b[38;5;28mself\u001b[39m\u001b[38;5;241m.\u001b[39m_mgr\u001b[38;5;241m.\u001b[39mcopy(deep\u001b[38;5;241m=\u001b[39mdeep)\n\u001b[0;32m   6453\u001b[0m     \u001b[38;5;28mself\u001b[39m\u001b[38;5;241m.\u001b[39m_clear_item_cache()\n\u001b[0;32m   6454\u001b[0m     \u001b[38;5;28;01mreturn\u001b[39;00m \u001b[38;5;28mself\u001b[39m\u001b[38;5;241m.\u001b[39m_constructor(data)\u001b[38;5;241m.\u001b[39m__finalize__(\u001b[38;5;28mself\u001b[39m, method\u001b[38;5;241m=\u001b[39m\u001b[38;5;124m\"\u001b[39m\u001b[38;5;124mcopy\u001b[39m\u001b[38;5;124m\"\u001b[39m)\n",
      "File \u001b[1;32m~\\anaconda3\\Lib\\site-packages\\pandas\\core\\internals\\managers.py:653\u001b[0m, in \u001b[0;36mBaseBlockManager.copy\u001b[1;34m(self, deep)\u001b[0m\n\u001b[0;32m    650\u001b[0m \u001b[38;5;28;01melse\u001b[39;00m:\n\u001b[0;32m    651\u001b[0m     new_axes \u001b[38;5;241m=\u001b[39m \u001b[38;5;28mlist\u001b[39m(\u001b[38;5;28mself\u001b[39m\u001b[38;5;241m.\u001b[39maxes)\n\u001b[1;32m--> 653\u001b[0m res \u001b[38;5;241m=\u001b[39m \u001b[38;5;28mself\u001b[39m\u001b[38;5;241m.\u001b[39mapply(\u001b[38;5;124m\"\u001b[39m\u001b[38;5;124mcopy\u001b[39m\u001b[38;5;124m\"\u001b[39m, deep\u001b[38;5;241m=\u001b[39mdeep)\n\u001b[0;32m    654\u001b[0m res\u001b[38;5;241m.\u001b[39maxes \u001b[38;5;241m=\u001b[39m new_axes\n\u001b[0;32m    656\u001b[0m \u001b[38;5;28;01mif\u001b[39;00m \u001b[38;5;28mself\u001b[39m\u001b[38;5;241m.\u001b[39mndim \u001b[38;5;241m>\u001b[39m \u001b[38;5;241m1\u001b[39m:\n\u001b[0;32m    657\u001b[0m     \u001b[38;5;66;03m# Avoid needing to re-compute these\u001b[39;00m\n",
      "File \u001b[1;32m~\\anaconda3\\Lib\\site-packages\\pandas\\core\\internals\\managers.py:352\u001b[0m, in \u001b[0;36mBaseBlockManager.apply\u001b[1;34m(self, f, align_keys, **kwargs)\u001b[0m\n\u001b[0;32m    350\u001b[0m         applied \u001b[38;5;241m=\u001b[39m b\u001b[38;5;241m.\u001b[39mapply(f, \u001b[38;5;241m*\u001b[39m\u001b[38;5;241m*\u001b[39mkwargs)\n\u001b[0;32m    351\u001b[0m     \u001b[38;5;28;01melse\u001b[39;00m:\n\u001b[1;32m--> 352\u001b[0m         applied \u001b[38;5;241m=\u001b[39m \u001b[38;5;28mgetattr\u001b[39m(b, f)(\u001b[38;5;241m*\u001b[39m\u001b[38;5;241m*\u001b[39mkwargs)\n\u001b[0;32m    353\u001b[0m     result_blocks \u001b[38;5;241m=\u001b[39m extend_blocks(applied, result_blocks)\n\u001b[0;32m    355\u001b[0m out \u001b[38;5;241m=\u001b[39m \u001b[38;5;28mtype\u001b[39m(\u001b[38;5;28mself\u001b[39m)\u001b[38;5;241m.\u001b[39mfrom_blocks(result_blocks, \u001b[38;5;28mself\u001b[39m\u001b[38;5;241m.\u001b[39maxes)\n",
      "File \u001b[1;32m~\\anaconda3\\Lib\\site-packages\\pandas\\core\\internals\\blocks.py:540\u001b[0m, in \u001b[0;36mBlock.copy\u001b[1;34m(self, deep)\u001b[0m\n\u001b[0;32m    538\u001b[0m refs: BlockValuesRefs \u001b[38;5;241m|\u001b[39m \u001b[38;5;28;01mNone\u001b[39;00m\n\u001b[0;32m    539\u001b[0m \u001b[38;5;28;01mif\u001b[39;00m deep:\n\u001b[1;32m--> 540\u001b[0m     values \u001b[38;5;241m=\u001b[39m values\u001b[38;5;241m.\u001b[39mcopy()\n\u001b[0;32m    541\u001b[0m     refs \u001b[38;5;241m=\u001b[39m \u001b[38;5;28;01mNone\u001b[39;00m\n\u001b[0;32m    542\u001b[0m \u001b[38;5;28;01melse\u001b[39;00m:\n",
      "\u001b[1;31mMemoryError\u001b[0m: Unable to allocate 667. MiB for an array with shape (8, 10933369) and data type object"
     ]
    }
   ],
   "source": [
    "# Step 1: Make a copy to avoid changing the original\n",
    "lines_expanded = mta_2022.copy()\n",
    "\n",
    "# Step 2: Split by space (e.g., \"A C E\" → [\"A\", \"C\", \"E\"])\n",
    "lines_expanded['line_name'] = lines_expanded['line_name'].str.split()\n",
    "\n",
    "# Step 3: Explode into multiple rows\n",
    "lines_expanded = lines_expanded.explode('line_name')\n",
    "\n",
    "# Step 4: Group by each individual line\n",
    "busiest_individual_lines = (\n",
    "    lines_expanded.groupby('line_name')[['entries', 'exits']]\n",
    "    .sum()\n",
    "    .assign(total=lambda df: df['entries'] + df['exits'])\n",
    "    .sort_values('total', ascending=False)\n",
    ")\n"
   ]
  },
  {
   "cell_type": "code",
   "execution_count": null,
   "metadata": {
    "colab": {
     "base_uri": "https://localhost:8080/",
     "height": 607
    },
    "id": "fXBrpnE5Aaf7",
    "outputId": "cfaf1571-78f0-4461-f646-33069b58b86f"
   },
   "outputs": [],
   "source": [
    "top_lines = busiest_individual_lines.head(10).reset_index()\n",
    "\n",
    "plt.figure(figsize=(12, 6))\n",
    "\n",
    "plt.gca().yaxis.set_major_formatter(ticker.FuncFormatter(lambda x, _: f'{x*1e-13:.1f}e13'))\n",
    "plt.ylim(0, .8e14)\n",
    "\n",
    "plt.bar(top_lines['line_name'], top_lines['total'], color='green')\n",
    "plt.xticks(rotation=0)\n",
    "plt.title(\"Top 10 Busiest Individual MTA Train Lines 2022\")\n",
    "plt.xlabel(\"Train Line\")\n",
    "plt.ylabel(\"Total Entries + Exits\")\n",
    "plt.tight_layout()\n",
    "plt.show()\n"
   ]
  },
  {
   "cell_type": "markdown",
   "metadata": {
    "id": "hUKtOrmlCOSy"
   },
   "source": [
    "Now I'm analyzing by time. This can give us an idea of when the MTA should request additional law enforcement presence to reduce the amount of fare evaders."
   ]
  },
  {
   "cell_type": "code",
   "execution_count": null,
   "metadata": {
    "id": "EyXznY-wAjrr"
   },
   "outputs": [],
   "source": [
    "# Strip AM/PM from the time strings\n",
    "mta_2022['time'] = mta_2022['time'].str.replace(r'\\s?(AM|PM)', '', regex=True)\n",
    "\n",
    "# Now combine and convert\n",
    "mta_2022['datetime'] = pd.to_datetime(mta_2022['date'] + ' ' + mta_2022['time'])\n"
   ]
  },
  {
   "cell_type": "markdown",
   "metadata": {
    "id": "8gB17KdkCK7U"
   },
   "source": [
    "Extracting parts of the datetime obj so we can look at what days were most busy and what hours of the day were most busy."
   ]
  },
  {
   "cell_type": "code",
   "execution_count": null,
   "metadata": {
    "id": "FywmRKSNBIEM"
   },
   "outputs": [],
   "source": [
    "mta_2022['date_only'] = mta_2022['datetime'].dt.date\n",
    "mta_2022['hour'] = mta_2022['datetime'].dt.hour"
   ]
  },
  {
   "cell_type": "code",
   "execution_count": null,
   "metadata": {
    "id": "tNIDTWWsCI7X"
   },
   "outputs": [],
   "source": [
    "daily_traffic = (\n",
    "    mta_2022.groupby('date_only')[['entries', 'exits']]\n",
    "    .sum()\n",
    "    .assign(total=lambda df: df['entries'] + df['exits'])\n",
    ")"
   ]
  },
  {
   "cell_type": "code",
   "execution_count": null,
   "metadata": {
    "id": "fNwTBWh9CrSf"
   },
   "outputs": [],
   "source": [
    "hourly_traffic = (\n",
    "    mta_2022.groupby('hour')[['entries', 'exits']]\n",
    "    .sum()\n",
    "    .assign(total=lambda df: df['entries'] + df['exits'])\n",
    ")\n"
   ]
  },
  {
   "cell_type": "code",
   "execution_count": null,
   "metadata": {
    "colab": {
     "base_uri": "https://localhost:8080/",
     "height": 54
    },
    "id": "R0qEf7GcCt7_",
    "outputId": "64f22515-ce2b-4f46-ba9a-1f96c10d218d"
   },
   "outputs": [],
   "source": [
    "hourly_traffic.plot(\n",
    "    y='total', kind='bar', legend=False, figsize=(10, 5), color='coral',\n",
    "    title='Total MTA Traffic by Hour of Day'\n",
    ")\n",
    "\n",
    "plt.gca().yaxis.set_major_formatter(ticker.FuncFormatter(lambda x, _: f'{x*1e-13:.1f}e13'))\n",
    "plt.ylim(0, 1e14)\n",
    "\n",
    "plt.xlabel(\"Hour of Day\")\n",
    "plt.ylabel(\"Total Entries + Exits\")\n",
    "plt.xticks(rotation=0)\n",
    "plt.tight_layout()\n",
    "plt.show()"
   ]
  },
  {
   "cell_type": "code",
   "execution_count": null,
   "metadata": {
    "colab": {
     "base_uri": "https://localhost:8080/",
     "height": 54
    },
    "id": "qF3DVNIpC2Q8",
    "outputId": "61a7d0af-be0c-4ad9-f24e-2fb84c1bf44a"
   },
   "outputs": [],
   "source": [
    "daily_traffic.plot(\n",
    "    y='total', figsize=(14, 6), title='Total MTA Traffic by Date', color='seagreen'\n",
    ")\n",
    "\n",
    "plt.ylim(1e12, 6e12)\n",
    "\n",
    "plt.xlabel(\"Date\")\n",
    "plt.ylabel(\"Total Entries + Exits\")\n",
    "plt.tight_layout()\n",
    "plt.show()\n"
   ]
  },
  {
   "cell_type": "markdown",
   "metadata": {
    "id": "aECTvqTWDT1J"
   },
   "source": [
    "Which days of the week are the most busy? Additional law enforcement then could also be beneficial."
   ]
  },
  {
   "cell_type": "code",
   "execution_count": null,
   "metadata": {
    "colab": {
     "base_uri": "https://localhost:8080/",
     "height": 54
    },
    "id": "qliwXNp4C3uR",
    "outputId": "f53c46e0-b2db-4def-b550-85f1b4a16083"
   },
   "outputs": [],
   "source": [
    "mta_2022['weekday'] = mta_2022['datetime'].dt.weekday  # Monday = 0, Sunday = 6\n",
    "\n",
    "weekly_traffic = (\n",
    "    mta_2022.groupby('weekday')[['entries', 'exits']]\n",
    "    .sum()\n",
    "    .assign(total=lambda df: df['entries'] + df['exits'])\n",
    ")\n",
    "\n",
    "# Plot\n",
    "weekly_traffic.plot(kind='bar', figsize=(12, 6), title='Total Traffic by Day of Week 2022', color=['violet', 'slateblue', 'purple'])\n",
    "\n",
    "plt.gca().yaxis.set_major_formatter(ticker.FuncFormatter(lambda x, _: f'{x*1e-13:.1f}e13'))\n",
    "plt.ylim(0, 1.8e14)\n",
    "\n",
    "plt.xlabel(\"Day of Week (0=Monday, 6=Sunday)\")\n",
    "plt.ylabel(\"Total Entries + Exits\")\n",
    "plt.tight_layout()\n",
    "plt.show()\n"
   ]
  },
  {
   "cell_type": "code",
   "execution_count": null,
   "metadata": {
    "colab": {
     "base_uri": "https://localhost:8080/",
     "height": 54
    },
    "id": "Of-o4x7hDzPo",
    "outputId": "bd5ce451-b705-4895-8a06-d630fdf7516a"
   },
   "outputs": [],
   "source": [
    "mta_2022['month'] = mta_2022['datetime'].dt.month\n",
    "\n",
    "monthly_traffic = (\n",
    "    mta_2022.groupby('month')[['entries', 'exits']]\n",
    "    .sum()\n",
    "    .assign(total=lambda df: df['entries'] + df['exits'])\n",
    ")\n",
    "\n",
    "monthly_traffic.plot(kind='bar', figsize=(12, 6), title='Total Traffic by Month 2022', color=['skyblue', 'tan', 'green'])\n",
    "\n",
    "plt.gca().yaxis.set_major_formatter(ticker.FuncFormatter(lambda x, _: f'{x*1e-13:.1f}e13'))\n",
    "plt.ylim(0, 1.2e14)\n",
    "\n",
    "plt.xlabel('Month')\n",
    "plt.ylabel('Total Entries + Exits')\n",
    "plt.tight_layout()\n",
    "plt.show()\n"
   ]
  },
  {
   "cell_type": "code",
   "execution_count": null,
   "metadata": {
    "colab": {
     "base_uri": "https://localhost:8080/",
     "height": 54
    },
    "id": "MvebW35JDccq",
    "outputId": "dcd3a079-fe02-49f0-f96e-7bb9f0c857b2"
   },
   "outputs": [],
   "source": [
    "# Group by hour and summarize\n",
    "hourly_traffic = (\n",
    "    mta_2022.groupby('hour')[['entries', 'exits']]\n",
    "    .sum()\n",
    "    .assign(total=lambda df: df['entries'] + df['exits'])\n",
    ")\n",
    "\n",
    "# Highlight rush hours (e.g., 7AM-9AM and 4PM-6PM)\n",
    "rush_hours = hourly_traffic.loc[(hourly_traffic.index >= 7) & (hourly_traffic.index <= 9)]\n",
    "evening_rush = hourly_traffic.loc[(hourly_traffic.index >= 16) & (hourly_traffic.index <= 18)]\n",
    "\n",
    "# Plot\n",
    "plt.figure(figsize=(14, 6))\n",
    "plt.plot(hourly_traffic.index, hourly_traffic['total'], label='Total Traffic')\n",
    "plt.plot(rush_hours.index, rush_hours['total'], label='Morning Rush', color='lawngreen', linewidth=4)\n",
    "plt.plot(evening_rush.index, evening_rush['total'], label='Evening Rush', color='royalblue', linewidth=4)\n",
    "plt.title('Rush Hour Traffic Analysis')\n",
    "plt.xlabel('Hour of Day')\n",
    "plt.ylabel('Total Entries + Exits')\n",
    "plt.legend()\n",
    "plt.tight_layout()\n",
    "plt.show()"
   ]
  },
  {
   "cell_type": "code",
   "execution_count": null,
   "metadata": {
    "id": "9eoULp5RE51q"
   },
   "outputs": [],
   "source": []
  }
 ],
 "metadata": {
  "colab": {
   "provenance": []
  },
  "kernelspec": {
   "display_name": "Python 3 (ipykernel)",
   "language": "python",
   "name": "python3"
  },
  "language_info": {
   "codemirror_mode": {
    "name": "ipython",
    "version": 3
   },
   "file_extension": ".py",
   "mimetype": "text/x-python",
   "name": "python",
   "nbconvert_exporter": "python",
   "pygments_lexer": "ipython3",
   "version": "3.11.5"
  }
 },
 "nbformat": 4,
 "nbformat_minor": 1
}

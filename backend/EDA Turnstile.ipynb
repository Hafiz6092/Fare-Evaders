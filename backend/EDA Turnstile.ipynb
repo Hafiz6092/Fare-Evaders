{
 "cells": [
  {
   "cell_type": "code",
   "execution_count": 1,
   "id": "f2c7f4b4",
   "metadata": {},
   "outputs": [],
   "source": [
    "import pandas as pd\n",
    "import numpy as np\n",
    "from datetime import datetime, timedelta\n",
    "import seaborn as sns\n",
    "%matplotlib inline\n",
    "import matplotlib\n",
    "import matplotlib.pyplot as plt\n",
    "# from matplotlib import mlab\n",
    "# from matplotlib.ticker import FuncFormatter\n",
    "# matplotlib.style.use('ggplot')\n",
    "# import sqlite3 \n",
    "# import warnings\n",
    "# warnings.filterwarnings('ignore')\n",
    "# pd.options.mode.chained_assignment = None"
   ]
  },
  {
   "cell_type": "code",
   "execution_count": 5,
   "id": "d2411bf0",
   "metadata": {},
   "outputs": [],
   "source": [
    "# mta_2022 = pd.read_csv('MTA_Subway_Turnstile_Usage_Data__2022.csv', sep = ',',header = 0)\n",
    "url = 'https://data.ny.gov/api/views/uu7b-3kff/rows.csv?accessType=DOWNLOAD'\n",
    "mta_2022 = pd.read_csv(url)\n"
   ]
  },
  {
   "cell_type": "code",
   "execution_count": null,
   "id": "4ab5038d",
   "metadata": {},
   "outputs": [],
   "source": [
    "mta_2022.columns =['c/a','unit','scp','line_name', 'division', 'date','time','desc','entries','exits']"
   ]
  },
  {
   "cell_type": "code",
   "execution_count": null,
   "id": "7e2b9e14",
   "metadata": {},
   "outputs": [],
   "source": [
    "mta_2022.head()"
   ]
  },
  {
   "cell_type": "code",
   "execution_count": null,
   "id": "003dc55a",
   "metadata": {},
   "outputs": [],
   "source": [
    "mta_2022.size"
   ]
  },
  {
   "cell_type": "code",
   "execution_count": null,
   "id": "4b9a4a48",
   "metadata": {},
   "outputs": [],
   "source": [
    "mta_2022.describe"
   ]
  },
  {
   "cell_type": "code",
   "execution_count": null,
   "id": "dc1f5325",
   "metadata": {},
   "outputs": [],
   "source": [
    "mta_2022.isnull().sum()"
   ]
  },
  {
   "cell_type": "code",
   "execution_count": null,
   "id": "e72dec62",
   "metadata": {},
   "outputs": [],
   "source": [
    "mta_2022['datetime'] = pd.to_datetime(mta_2022.date + ' ' + mta_2022.time, format='%m/%d/%Y  %H:%M:%S')\n"
   ]
  },
  {
   "cell_type": "code",
   "execution_count": null,
   "id": "4ba8c61a",
   "metadata": {},
   "outputs": [],
   "source": [
    "mta_2022['turnstile'] = mta_2022['c/a'] + '-' + mta_2022['unit'] + '-' + mta_2022['scp']"
   ]
  },
  {
   "cell_type": "code",
   "execution_count": null,
   "id": "dd8b681e",
   "metadata": {},
   "outputs": [],
   "source": [
    "mta_2022.head()"
   ]
  },
  {
   "cell_type": "code",
   "execution_count": null,
   "id": "9cbadebc",
   "metadata": {},
   "outputs": [],
   "source": [
    "mta_2022.line_name.value_counts()"
   ]
  },
  {
   "cell_type": "code",
   "execution_count": null,
   "id": "ce07d518",
   "metadata": {},
   "outputs": [],
   "source": [
    "mta_2022.division.value_counts()"
   ]
  },
  {
   "cell_type": "code",
   "execution_count": null,
   "id": "db05313b",
   "metadata": {},
   "outputs": [],
   "source": [
    "mta_2018 = pd.read_csv('MTA_Subway_Turnstile_Usage_Data__2018.csv', sep = ',',header = 0)"
   ]
  },
  {
   "cell_type": "code",
   "execution_count": null,
   "id": "2cedcb43",
   "metadata": {},
   "outputs": [],
   "source": [
    "mta_2018.head()"
   ]
  },
  {
   "cell_type": "code",
   "execution_count": null,
   "id": "57390b6b",
   "metadata": {},
   "outputs": [],
   "source": [
    "mta_2019 = pd.read_csv('MTA_Subway_Turnstile_Usage_Data__2019.csv', sep = ',',header = 0)"
   ]
  },
  {
   "cell_type": "code",
   "execution_count": null,
   "id": "8dc22789",
   "metadata": {
    "scrolled": true
   },
   "outputs": [],
   "source": [
    "mta_2019.head()"
   ]
  },
  {
   "cell_type": "code",
   "execution_count": null,
   "id": "ba0ec1ae",
   "metadata": {},
   "outputs": [],
   "source": [
    "mta_2020 = pd.read_csv('MTA_Subway_Turnstile_Usage_Data__2020.csv', sep = ',',header = 0)"
   ]
  },
  {
   "cell_type": "code",
   "execution_count": null,
   "id": "c096d61c",
   "metadata": {},
   "outputs": [],
   "source": [
    "mta_2020.head()"
   ]
  },
  {
   "cell_type": "code",
   "execution_count": null,
   "id": "be41b934",
   "metadata": {},
   "outputs": [],
   "source": [
    "mta_2021 = pd.read_csv('MTA_Subway_Turnstile_Usage_Data__2021.csv', sep = ',',header = 0)"
   ]
  },
  {
   "cell_type": "code",
   "execution_count": null,
   "id": "bdddeebe",
   "metadata": {},
   "outputs": [],
   "source": [
    "mta_2021.head()"
   ]
  },
  {
   "cell_type": "code",
   "execution_count": null,
   "id": "c95f8dff",
   "metadata": {},
   "outputs": [],
   "source": [
    "mta_2022.turnstile.value_counts()"
   ]
  },
  {
   "cell_type": "code",
   "execution_count": null,
   "id": "a63ba153",
   "metadata": {},
   "outputs": [],
   "source": []
  }
 ],
 "metadata": {
  "kernelspec": {
   "display_name": "Python 3 (ipykernel)",
   "language": "python",
   "name": "python3"
  },
  "language_info": {
   "codemirror_mode": {
    "name": "ipython",
    "version": 3
   },
   "file_extension": ".py",
   "mimetype": "text/x-python",
   "name": "python",
   "nbconvert_exporter": "python",
   "pygments_lexer": "ipython3",
   "version": "3.11.5"
  }
 },
 "nbformat": 4,
 "nbformat_minor": 5
}
